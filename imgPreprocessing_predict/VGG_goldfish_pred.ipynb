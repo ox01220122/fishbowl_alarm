{
  "nbformat": 4,
  "nbformat_minor": 0,
  "metadata": {
    "colab": {
      "provenance": []
    },
    "kernelspec": {
      "name": "python3",
      "display_name": "Python 3"
    },
    "language_info": {
      "name": "python"
    }
  },
  "cells": [
    {
      "cell_type": "code",
      "execution_count": null,
      "metadata": {
        "colab": {
          "base_uri": "https://localhost:8080/"
        },
        "id": "gzRq3UnisGWU",
        "outputId": "153668b1-5406-4531-d1c0-a497706ac791"
      },
      "outputs": [
        {
          "output_type": "stream",
          "name": "stdout",
          "text": [
            "Mounted at /content/drive\n"
          ]
        }
      ],
      "source": [
        "from google.colab import drive\n",
        "drive.mount('/content/drive')"
      ]
    },
    {
      "cell_type": "code",
      "source": [
        "from keras.applications.vgg16 import VGG16\n",
        "from keras.applications.vgg16 import preprocess_input\n",
        "from keras.preprocessing.image import load_img\n",
        "from keras.preprocessing.image import img_to_array\n",
        "from keras.models import Model\n",
        "from matplotlib import pyplot\n",
        "from numpy import expand_dims\n",
        "from keras.applications.vgg16 import decode_predictions\n",
        "import os\n",
        "import numpy as np\n",
        "import cv2\n",
        "from PIL import Image\n",
        "import pandas as pd\n",
        "\n",
        "\n",
        "\n",
        "model=VGG16()\n",
        "\n",
        "original_path = '/content/drive/My Drive/lecture/Unet/test/gold_fish_real_/'\n",
        "#resized_path = '/content/drive/My Drive/lecture/Unet/test/goldfish_image_2/'\n",
        "\n",
        "file_list = os.listdir(original_path)\n",
        "img_list = []\n",
        "real_goldfish=[]\n",
        "\n",
        "for item in file_list :\n",
        "    if item.find('.jpg') is not -1 :\n",
        "        img_list.append(item)\n",
        "\n",
        "total_image = len(img_list)\n",
        "index = 0\n",
        "\n",
        "a=1\n",
        "for name in img_list :\n",
        "  img = Image.open('%s%s'%(original_path, name))\n",
        "  img=img_to_array(img)\n",
        "  img=expand_dims(img,axis=0)\n",
        "  img=preprocess_input(img)\n",
        "  y_pred=model.predict(img)\n",
        "  y_pred.shape\n",
        "  label=decode_predictions(y_pred)\n",
        "  print(name,label[0][0][1])   #이름 , 라벨 같이 출력\n",
        "  if label[0][0][1]!='goldfish':  #or label[0][0][2]<=0.6 추가하기\n",
        "    real_goldfish.append(a)\n",
        "  a+=1\n",
        "index_num=list(range(1,len(real_goldfish)+1,1))   \n",
        "dataframe=pd.DataFrame({\"size\":real_goldfish},index=index_num)  \n",
        "\n",
        "\n"
      ],
      "metadata": {
        "colab": {
          "base_uri": "https://localhost:8080/"
        },
        "id": "fqcOcebQsIU5",
        "outputId": "86190442-4cfc-4bf0-8064-7d5cff485211"
      },
      "execution_count": null,
      "outputs": [
        {
          "output_type": "stream",
          "name": "stdout",
          "text": [
            "Downloading data from https://storage.googleapis.com/tensorflow/keras-applications/vgg16/vgg16_weights_tf_dim_ordering_tf_kernels.h5\n",
            "553467904/553467096 [==============================] - 3s 0us/step\n",
            "553476096/553467096 [==============================] - 3s 0us/step\n",
            "Downloading data from https://storage.googleapis.com/download.tensorflow.org/data/imagenet_class_index.json\n",
            "40960/35363 [==================================] - 0s 0us/step\n",
            "49152/35363 [=========================================] - 0s 0us/step\n",
            "fish_1.jpg stage\n",
            "fish_2.jpg goldfish\n",
            "fish_3.jpg goldfish\n",
            "fish_4.jpg apiary\n",
            "fish_5.jpg snorkel\n",
            "fish_6.jpg stage\n",
            "fish_7.jpg goldfish\n",
            "fish_8.jpg goldfish\n",
            "fish_9.jpg goldfish\n",
            "fish_10.jpg goldfish\n",
            "fish_11.jpg stage\n",
            "fish_12.jpg wreck\n",
            "fish_13.jpg stage\n",
            "fish_14.jpg goldfish\n",
            "fish_15.jpg goldfish\n",
            "fish_16.jpg snorkel\n"
          ]
        }
      ]
    },
    {
      "cell_type": "code",
      "source": [
        "pd.set_option('display.max_row', None)\n",
        "print(dataframe)"
      ],
      "metadata": {
        "colab": {
          "base_uri": "https://localhost:8080/"
        },
        "id": "P7mreTUmsIWk",
        "outputId": "be1bdd08-ba04-4bf8-9441-340659eeb3fd"
      },
      "execution_count": null,
      "outputs": [
        {
          "output_type": "stream",
          "name": "stdout",
          "text": [
            "   size\n",
            "1     1\n",
            "2     4\n",
            "3     5\n",
            "4     6\n",
            "5    11\n",
            "6    12\n",
            "7    13\n",
            "8    16\n"
          ]
        }
      ]
    },
    {
      "cell_type": "code",
      "source": [
        "image_directory='/content/drive/My Drive/lecture/Unet/test/goldfish_image_1/'    #원본 경로 \n",
        "for i in dataframe:\n",
        "  a='fish_'+str(i)\n",
        "  if os.path.isfile(image_directory +a):\n",
        "        os.remove(image_directory + a)"
      ],
      "metadata": {
        "id": "SlHfUhVBzbl0"
      },
      "execution_count": null,
      "outputs": []
    },
    {
      "cell_type": "code",
      "source": [
        "\n",
        "\n",
        "'''\n",
        "original_path = '/content/drive/My Drive/lecture/Unet/test/goldfish_image_1/'\n",
        "resized_path = '/content/drive/My Drive/lecture/Unet/test/goldfish_image_3/'\n",
        "file_list = os.listdir(original_path)\n",
        "real_goldfish=[]\n",
        "for item in file_list :\n",
        "  for i in not_goldfish:\n",
        "        if item.find('.jpg') is not -1 :\n",
        "          real_goldfish.append(item)\n",
        "\n",
        "\n",
        "\n",
        "\n",
        "for name in real_goldfish :\n",
        "  img = Image.open('%s%s'%(original_path, name))\n",
        "  img.save('%s%s.jpg'%(resized_path,'fish_'+str(index+1)))\n",
        "  '''"
      ],
      "metadata": {
        "id": "f2XquD_uhLNW"
      },
      "execution_count": null,
      "outputs": []
    },
    {
      "cell_type": "code",
      "source": [],
      "metadata": {
        "id": "fNQEIRYZkhO8"
      },
      "execution_count": null,
      "outputs": []
    }
  ]
}