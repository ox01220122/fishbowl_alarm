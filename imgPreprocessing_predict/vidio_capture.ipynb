{
  "nbformat": 4,
  "nbformat_minor": 0,
  "metadata": {
    "colab": {
      "provenance": []
    },
    "kernelspec": {
      "name": "python3",
      "display_name": "Python 3"
    },
    "language_info": {
      "name": "python"
    }
  },
  "cells": [
    {
      "cell_type": "code",
      "execution_count": null,
      "metadata": {
        "id": "zBdXASAclrc1"
      },
      "outputs": [],
      "source": [
        "import cv2\n",
        "import pafy\n",
        "\n",
        "# 로컬 저장소에 있는 동영상에서 캡쳐하기\n",
        "videoFile = \"C:\\\\vd\\\\우리집 어항을 소개합니다 _ 금붕어 1시간 물멍 영상 _ 힐링 휴식 편안.mp4\"     # 동영상 파일 주소\n",
        "vidcap = cv2.VideoCapture()\n",
        "vidcap.open(videoFile)\n",
        "\n",
        "#fps = vidcap.get(cv2.CAP_PROP_FPS)*   #프레임 초당 프레임수 \n",
        "fps =30  \n",
        "frame_count = vidcap.get(cv2.CAP_PROP_FRAME_COUNT) \n",
        "duration = frame_count / fps\n",
        "print(\"영상의 길이 : \", duration, \"초\")\n",
        "\n",
        "count = 1          \n",
        "increase_width =10    # 여기서 몇초마다 찍을건지 세팅\n",
        "second = 0\n",
        "success = True\n",
        "\n",
        "while success and second <= duration:\n",
        "    success,image = vidcap.read()\n",
        "    vidcap.set(cv2.CAP_PROP_POS_MSEC, second * 1000)\n",
        "    print(second, \"초 에서 캡쳐\")\n",
        "    cv2.imwrite(\"D:\\\\gold_fish_vd3\\\\%d.jpg\" % count, image)      # 저장시킬 위치 주소\n",
        "    print(\"saved image %d.jpg\" % count)\n",
        "    count += 1   \n",
        "    second += increase_width\n",
        "    if cv2.waitKey(10) == 27:  #esc누르면 멈추는거\n",
        "        break\n",
        "\n",
        "print('----- Finish Video Capture! -----')\n",
        "\n",
        "'''\n",
        "pip install opencv-python\n",
        "pip install pafy\n",
        "sudo pip install --upgrade youtube_dl\n",
        "'''"
      ]
    }
  ]
}